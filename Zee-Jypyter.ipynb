{
    "cells": [
        {
            "cell_type": "markdown",
            "metadata": {
                "collapsed": true
            },
            "source": "# My Jupyter Notebook on IBM Watson Studio\n\n"
        },
        {
            "cell_type": "markdown",
            "metadata": {},
            "source": "#### Wura Dairo\nNeurological Artificial Intelligence Engineer/ Robotics"
        },
        {
            "cell_type": "markdown",
            "metadata": {},
            "source": "##### I am interested in data science because I love to gain insights from data about the mind and how it works and create a bot that can serve as both a PA, in specific job roles and also one for the justice system or in education field. Figureing out what one really needs to study to become better at their careers and as a person."
        },
        {
            "cell_type": "markdown",
            "metadata": {},
            "source": "### The code below is supposed to print : Hello World !"
        },
        {
            "cell_type": "code",
            "execution_count": 1,
            "metadata": {
                "scrolled": false
            },
            "outputs": [
                {
                    "name": "stdout",
                    "output_type": "stream",
                    "text": "Hello World\n"
                }
            ],
            "source": "print(\"Hello World !\")"
        },
        {
            "cell_type": "markdown",
            "metadata": {},
            "source": "|Name|email|Gender|\n|---|---|---|\n|Charles|c.goody@yahoo.com|Male|\n|Jessica|j.sef@hotmail.com|Female|\n|Tinu|tiny@gmail.com|Male|\n\n - Tinu\n - Uncle\n - Vakpo\n \n1. First List\n2. Second List\n3. Second List"
        }
    ],
    "metadata": {
        "kernelspec": {
            "display_name": "Python 3.7",
            "language": "python",
            "name": "python3"
        },
        "language_info": {
            "codemirror_mode": {
                "name": "ipython",
                "version": 3
            },
            "file_extension": ".py",
            "mimetype": "text/x-python",
            "name": "python",
            "nbconvert_exporter": "python",
            "pygments_lexer": "ipython3",
            "version": "3.7.11"
        }
    },
    "nbformat": 4,
    "nbformat_minor": 1
}